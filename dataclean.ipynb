{
 "cells": [
  {
   "cell_type": "code",
   "execution_count": 1,
   "metadata": {},
   "outputs": [],
   "source": [
    "import pandas as pd"
   ]
  },
  {
   "cell_type": "code",
   "execution_count": null,
   "metadata": {},
   "outputs": [],
   "source": [
    "berk = pd.read_csv('berkTest.csv')\n",
    "cmu = pd.read_csv('CMUTest.csv')\n",
    "corn = pd.read_csv('cornellTest.csv')\n",
    "sail = pd.read_csv('SAILTest.csv')\n",
    "uiuc = pd.read_csv('UIUCTest.csv')\n",
    "yale = pd.read_csv('YaleTest.csv')\n",
    "mit = pd.read_csv('mitTest.csv')\n",
    "stan = pd.read_csv('stanfordTest.csv')\n",
    "\n",
    "allRows = [berk, cmu, corn, sail, uiuc, yale, mit, stan]"
   ]
  }
 ],
 "metadata": {
  "interpreter": {
   "hash": "cee81a91169f2029e44d07424ef515c8e336ec22a0ab251d5ef1985903718bba"
  },
  "kernelspec": {
   "display_name": "Python 3.9.7 64-bit ('boiler': conda)",
   "language": "python",
   "name": "python3"
  },
  "language_info": {
   "codemirror_mode": {
    "name": "ipython",
    "version": 3
   },
   "file_extension": ".py",
   "mimetype": "text/x-python",
   "name": "python",
   "nbconvert_exporter": "python",
   "pygments_lexer": "ipython3",
   "version": "3.9.7"
  },
  "orig_nbformat": 4
 },
 "nbformat": 4,
 "nbformat_minor": 2
}
